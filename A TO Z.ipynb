{
 "cells": [
  {
   "cell_type": "code",
   "execution_count": 1,
   "id": "e02789ac",
   "metadata": {},
   "outputs": [
    {
     "name": "stdout",
     "output_type": "stream",
     "text": [
      "  * * * * * * *    \n",
      "*               *  \n",
      "*               *  \n",
      "*               *  \n",
      "* * * * * * * * *  \n",
      "*               *  \n",
      "*               *  \n",
      "*               *  \n",
      "*               *  \n"
     ]
    }
   ],
   "source": [
    "for r in range (9):\n",
    "    for c in range (9):\n",
    "        if c==0 and r!=0 or c==8 and r!=0 or r==0 and c!=0 and c!=8 or r==4:\n",
    "            print('*',end=' ')\n",
    "        else:\n",
    "            print(' ',end=' ')\n",
    "    print(\" \")"
   ]
  },
  {
   "cell_type": "code",
   "execution_count": 2,
   "id": "e82b4474",
   "metadata": {},
   "outputs": [
    {
     "name": "stdout",
     "output_type": "stream",
     "text": [
      "* * * *    \n",
      "*       *  \n",
      "*       *  \n",
      "* * * *    \n",
      "*       *  \n",
      "*       *  \n",
      "* * * *    \n"
     ]
    }
   ],
   "source": [
    "for r in range (7):\n",
    "    for c in range (5):\n",
    "        if c==0 or c==4 and r!=0 and r!=3 and r!=6 or r==0 and c!=4 or r==3 and c!=4 or r==6 and c!=4:\n",
    "            print('*',end=' ')\n",
    "        else:\n",
    "            print(' ',end=' ')\n",
    "    print(\" \")"
   ]
  },
  {
   "cell_type": "code",
   "execution_count": 3,
   "id": "0cae0a43",
   "metadata": {},
   "outputs": [
    {
     "name": "stdout",
     "output_type": "stream",
     "text": [
      "  * * * *  \n",
      "*          \n",
      "*          \n",
      "*          \n",
      "  * * * *  \n"
     ]
    }
   ],
   "source": [
    "for r in range (5):\n",
    "    for c in range (5):\n",
    "        if c==0 and r!=0 and r!=4 or r==0 and c!=0 or r==4 and c!=0:\n",
    "            print('*',end=' ')\n",
    "        else:\n",
    "            print(' ',end=' ')\n",
    "    print(\" \")"
   ]
  },
  {
   "cell_type": "code",
   "execution_count": 4,
   "id": "9fb4c45f",
   "metadata": {},
   "outputs": [
    {
     "name": "stdout",
     "output_type": "stream",
     "text": [
      "* * * *    \n",
      "*       *  \n",
      "*       *  \n",
      "*       *  \n",
      "* * * *    \n"
     ]
    }
   ],
   "source": [
    "for r in range (5):\n",
    "    for c in range (5):\n",
    "        if c==0 or c==4 and r!=4 and r!=0 or r==0 and c!=4 or r==4 and c!=4:\n",
    "            print('*',end=' ')\n",
    "        else:\n",
    "            print(' ',end=' ')\n",
    "    print(\" \")\n"
   ]
  },
  {
   "cell_type": "code",
   "execution_count": 5,
   "id": "4a052571",
   "metadata": {},
   "outputs": [
    {
     "name": "stdout",
     "output_type": "stream",
     "text": [
      "* * * * *  \n",
      "*          \n",
      "* * * * *  \n",
      "*          \n",
      "* * * * *  \n"
     ]
    }
   ],
   "source": [
    "for r in range (5):\n",
    "    for c in range (5):\n",
    "        if c==0 or r==0 or r==2 or r==4:\n",
    "            print('*',end=' ')\n",
    "        else:\n",
    "            print(' ',end=' ')\n",
    "    print(\" \")"
   ]
  },
  {
   "cell_type": "code",
   "execution_count": 6,
   "id": "a3350583",
   "metadata": {},
   "outputs": [
    {
     "name": "stdout",
     "output_type": "stream",
     "text": [
      "* * * * *  \n",
      "*          \n",
      "* * * * *  \n",
      "*          \n",
      "*          \n"
     ]
    }
   ],
   "source": [
    "for r in range (5):\n",
    "    for c in range (5):\n",
    "        if c==0 or r==0 or r==2:\n",
    "            print('*',end=' ')\n",
    "        else:\n",
    "            print(' ',end=' ')\n",
    "    print(\" \")"
   ]
  },
  {
   "cell_type": "code",
   "execution_count": 7,
   "id": "ad0a8884",
   "metadata": {},
   "outputs": [
    {
     "name": "stdout",
     "output_type": "stream",
     "text": [
      "* * * * *  \n",
      "*          \n",
      "*   * * *  \n",
      "*       *  \n",
      "* * * * *  \n"
     ]
    }
   ],
   "source": [
    "for r in range (5):\n",
    "    for c in range (5):\n",
    "        if c==0 or c==4 and r!=1 or r==0 or r==2 and c!=1 or r==4:\n",
    "            print('*',end=' ')\n",
    "        else:\n",
    "            print(' ',end=' ')\n",
    "    print(\" \")"
   ]
  },
  {
   "cell_type": "code",
   "execution_count": 8,
   "id": "3c603e5a",
   "metadata": {},
   "outputs": [
    {
     "name": "stdout",
     "output_type": "stream",
     "text": [
      "*       *  \n",
      "*       *  \n",
      "* * * * *  \n",
      "*       *  \n",
      "*       *  \n"
     ]
    }
   ],
   "source": [
    "for r in range (5):\n",
    "    for c in range (5):\n",
    "        if c==0 or c==4 or r==2:\n",
    "            print('*',end=' ')\n",
    "        else:\n",
    "            print(' ',end=' ')\n",
    "    print(\" \")"
   ]
  },
  {
   "cell_type": "code",
   "execution_count": 9,
   "id": "53b65517",
   "metadata": {},
   "outputs": [
    {
     "name": "stdout",
     "output_type": "stream",
     "text": [
      "*       *  \n",
      "*       *  \n",
      "* * * * *  \n",
      "*       *  \n",
      "*       *  \n"
     ]
    }
   ],
   "source": [
    "for r in range (5):\n",
    "    for c in range (5):\n",
    "        if c==0 or c==4 or r==2:\n",
    "            print('*',end=' ')\n",
    "        else:\n",
    "            print(' ',end=' ')\n",
    "    print(\" \")"
   ]
  },
  {
   "cell_type": "code",
   "execution_count": 10,
   "id": "89e92dab",
   "metadata": {},
   "outputs": [
    {
     "name": "stdout",
     "output_type": "stream",
     "text": [
      "* * * * *  \n",
      "    *      \n",
      "*   *      \n",
      "*   *      \n",
      "* * *      \n"
     ]
    }
   ],
   "source": [
    "for r in range (5):\n",
    "    for c in range (5):\n",
    "        if r==0 or r==4 and c!=3 and c!=4 or c==0 and r!=1 or c==2:\n",
    "            print('*',end=' ')\n",
    "        else:\n",
    "            print(' ',end=' ')\n",
    "    print(' ')"
   ]
  },
  {
   "cell_type": "code",
   "execution_count": 11,
   "id": "ea6faa7a",
   "metadata": {},
   "outputs": [
    {
     "name": "stdout",
     "output_type": "stream",
     "text": [
      "*     *    \n",
      "*   *      \n",
      "* *        \n",
      "*   *      \n",
      "*     *    \n"
     ]
    }
   ],
   "source": [
    "for r in range (5):\n",
    "    for c in range (5):\n",
    "        if c==0 or r==2 and c==1 or r==1 and c==2 or r==0 and c==3 or r==3 and c==2 or r==4 and c==3:\n",
    "            print('*',end=' ')\n",
    "        else:\n",
    "            print(' ',end=' ')\n",
    "    print(\" \")"
   ]
  },
  {
   "cell_type": "code",
   "execution_count": 12,
   "id": "841ddd52",
   "metadata": {},
   "outputs": [
    {
     "name": "stdout",
     "output_type": "stream",
     "text": [
      "*          \n",
      "*          \n",
      "*          \n",
      "*          \n",
      "* * * * *  \n"
     ]
    }
   ],
   "source": [
    "for r in range (5):\n",
    "    for c in range(5):\n",
    "        if c==0 or r==4:\n",
    "            print('*',end=' ')\n",
    "        else:\n",
    "            print(' ',end=' ')\n",
    "    print(\" \")"
   ]
  },
  {
   "cell_type": "code",
   "execution_count": 14,
   "id": "f9f71c72",
   "metadata": {},
   "outputs": [
    {
     "name": "stdout",
     "output_type": "stream",
     "text": [
      "*       *  \n",
      "* *   * *  \n",
      "*   *   *  \n",
      "*       *  \n",
      "*       *  \n"
     ]
    }
   ],
   "source": [
    "for r in range (5):\n",
    "    for c in range (5):\n",
    "        if c==0 or c==1 and r==1 or c==2 and r==2 or c==3 and r==1 or c==4 and r==0 or c==4:\n",
    "            print('*',end=\" \")\n",
    "        else:\n",
    "            print(\" \",end=' ')\n",
    "    print(\" \")"
   ]
  },
  {
   "cell_type": "code",
   "execution_count": 15,
   "id": "3c3765e4",
   "metadata": {},
   "outputs": [
    {
     "name": "stdout",
     "output_type": "stream",
     "text": [
      "*       *  \n",
      "* *     *  \n",
      "*   *   *  \n",
      "*     * *  \n",
      "*       *  \n"
     ]
    }
   ],
   "source": [
    "for r in range (5):\n",
    "    for c in range (5):\n",
    "        if c==0 or c==1 and r==1 or c==2 and r==2 or c==3 and r==3 or c==4 and r==4 or c==4:\n",
    "            print('*',end=' ')\n",
    "        else:\n",
    "            print(' ',end=' ')\n",
    "    print(' ')"
   ]
  },
  {
   "cell_type": "code",
   "execution_count": 16,
   "id": "58f4e7ad",
   "metadata": {},
   "outputs": [
    {
     "name": "stdout",
     "output_type": "stream",
     "text": [
      "  * * *    \n",
      "*       *  \n",
      "*       *  \n",
      "*       *  \n",
      "  * * *    \n"
     ]
    }
   ],
   "source": [
    "for r in range (5):\n",
    "    for c in range (5):\n",
    "        if c==0 and r!=0  and r!=4 or r==0 and c!=0 and c!=4 or c==4 and r!=0 and r!=4 or r==4 and c!=0 and c!=4:\n",
    "            print('*',end=' ')\n",
    "        else:\n",
    "            print(' ',end=' ')\n",
    "    print(' ')"
   ]
  },
  {
   "cell_type": "code",
   "execution_count": 17,
   "id": "292d3b1e",
   "metadata": {},
   "outputs": [
    {
     "name": "stdout",
     "output_type": "stream",
     "text": [
      "* * * *    \n",
      "*       *  \n",
      "* * * *    \n",
      "*          \n",
      "*          \n"
     ]
    }
   ],
   "source": [
    "for r in range (5):\n",
    "    for c in range (5):\n",
    "        if c==0 or r==0 and c!=4 or c==4 and r!=3 and r!=4 and r!=0 and r!=2 or r==2 and c!=4:\n",
    "            print('*',end=' ')\n",
    "        else:\n",
    "            print(' ',end=' ')\n",
    "    print(' ')"
   ]
  },
  {
   "cell_type": "code",
   "execution_count": 18,
   "id": "a26d5327",
   "metadata": {},
   "outputs": [
    {
     "name": "stdout",
     "output_type": "stream",
     "text": [
      "  * * *    \n",
      "*       *  \n",
      "*       *  \n",
      "*   *   *  \n",
      "  * * *    \n",
      "        *  \n"
     ]
    }
   ],
   "source": [
    "for r in range (6):\n",
    "    for c in range (5):\n",
    "        if c==0 and r!=0  and r!=4 and r!=5 or r==0 and c!=0 and c!=4 or c==4 and r!=0 and r!=4 or r==4 and c!=0 and c!=4 or c==2 and r==3 or c==3 and r==4:\n",
    "            print('*',end=' ')\n",
    "        else:\n",
    "            print(' ',end=' ')\n",
    "    print(' ')"
   ]
  },
  {
   "cell_type": "code",
   "execution_count": 19,
   "id": "eb32828b",
   "metadata": {},
   "outputs": [
    {
     "name": "stdout",
     "output_type": "stream",
     "text": [
      "* * * *    \n",
      "*       *  \n",
      "* * * *    \n",
      "* *        \n",
      "*     *    \n"
     ]
    }
   ],
   "source": [
    "for r in range (5):\n",
    "    for c in range (5):\n",
    "        if c==0 or r==0 and c!=4 or c==4 and r!=3 and r!=4 and r!=0 and r!=2 or r==2 and c!=4 or c==1 and r==3 or c==3 and r==4:\n",
    "            print('*',end=' ')\n",
    "        else:\n",
    "            print(' ',end=' ')\n",
    "    print(' ')"
   ]
  },
  {
   "cell_type": "code",
   "execution_count": 20,
   "id": "5b0ebef9",
   "metadata": {},
   "outputs": [
    {
     "name": "stdout",
     "output_type": "stream",
     "text": [
      "  * * * *  \n",
      "*          \n",
      "  * * *    \n",
      "        *  \n",
      "* * * *    \n"
     ]
    }
   ],
   "source": [
    "for r in range (5):\n",
    "    for c in range (5):\n",
    "        if  r==0 and c!=0  or c==0 and r!=2 and r!=0 and r!=3  or r==2 and c!=0 and c!=4 or r==4 and c!=4 or c==4 and r!=4 and r!=2 and r!=1:\n",
    "            print('*',end=' ')\n",
    "        else:\n",
    "            print(' ',end=' ')\n",
    "    print(\" \")"
   ]
  },
  {
   "cell_type": "code",
   "execution_count": 21,
   "id": "4a2f96e4",
   "metadata": {},
   "outputs": [
    {
     "name": "stdout",
     "output_type": "stream",
     "text": [
      "* * * * *  \n",
      "    *      \n",
      "    *      \n",
      "    *      \n",
      "    *      \n"
     ]
    }
   ],
   "source": [
    "for r in range (5):\n",
    "    for c in range (5):\n",
    "        if r==0 or c==2:\n",
    "            print('*',end=' ')\n",
    "        else:\n",
    "            print(' ',end=' ')\n",
    "    print(\" \")"
   ]
  },
  {
   "cell_type": "code",
   "execution_count": 22,
   "id": "5516acf9",
   "metadata": {},
   "outputs": [
    {
     "name": "stdout",
     "output_type": "stream",
     "text": [
      "  *   *    \n",
      "  *   *    \n",
      "  *   *    \n",
      "  *   *    \n",
      "  * * *    \n"
     ]
    }
   ],
   "source": [
    "for r in range (5):\n",
    "    for c in range (5):\n",
    "        if c==1 or r==4 and c!=0 and c!=4 or c==3:\n",
    "            print('*',end=' ')\n",
    "        else:\n",
    "            print(' ',end=' ')\n",
    "    print(' ')"
   ]
  },
  {
   "cell_type": "code",
   "execution_count": 23,
   "id": "1df3f202",
   "metadata": {},
   "outputs": [
    {
     "name": "stdout",
     "output_type": "stream",
     "text": [
      "  *   *    \n",
      "  *   *    \n",
      "  *   *    \n",
      "  *   *    \n",
      "    *      \n"
     ]
    }
   ],
   "source": [
    "for r in range (5):\n",
    "    for c in range (5):\n",
    "        if c==1 and r!=4 or r==4 and c!=3 and c!=1 and c!=0 and c!=4 or c==3 and r!=4:\n",
    "            print('*',end=' ')\n",
    "        else:\n",
    "            print(' ',end=' ')\n",
    "    print(' ')"
   ]
  },
  {
   "cell_type": "code",
   "execution_count": 24,
   "id": "167c34c7",
   "metadata": {},
   "outputs": [
    {
     "name": "stdout",
     "output_type": "stream",
     "text": [
      "*       *  \n",
      "*       *  \n",
      "*   *   *  \n",
      "* *   * *  \n",
      "*       *  \n"
     ]
    }
   ],
   "source": [
    "for r in range (5):\n",
    "    for c in range (5):\n",
    "        if c==0 or c==1 and r==3 or c==2 and r==2 or c==3 and r==3 or c==4:\n",
    "            print(\"*\",end=' ')\n",
    "        else:\n",
    "            print(' ',end=' ')\n",
    "    print(\" \")"
   ]
  },
  {
   "cell_type": "code",
   "execution_count": 25,
   "id": "784fc62e",
   "metadata": {},
   "outputs": [
    {
     "name": "stdout",
     "output_type": "stream",
     "text": [
      "*       *  \n",
      "  *   *    \n",
      "    *      \n",
      "  *   *    \n",
      "*       *  \n"
     ]
    }
   ],
   "source": [
    "for r in range (5):\n",
    "    for c in range (5):\n",
    "        if r==0 and c==0 or r==1 and c==1 or r==2 and c==2 or r==3 and c==3 or r==4 and c==4 or r==0 and c==4 or r==1 and c==3 or r==3 and c==1 or r==4 and c==0 :\n",
    "            print('*',end=' ')\n",
    "        else:\n",
    "            print(' ',end=' ')\n",
    "    print(' ')"
   ]
  },
  {
   "cell_type": "code",
   "execution_count": 26,
   "id": "9daa86c0",
   "metadata": {},
   "outputs": [
    {
     "name": "stdout",
     "output_type": "stream",
     "text": [
      "*       *  \n",
      "  *   *    \n",
      "    *      \n",
      "    *      \n",
      "    *      \n"
     ]
    }
   ],
   "source": [
    "for r in range (5):\n",
    "    for c in range(5):\n",
    "        if r==0 and c==0 or r==1 and c==1 or r==2 and c==2 or r==1 and c==3 or r==0 and c==4 or r==3 and c==2 or r==4 and c==2:\n",
    "            print('*',end=' ')\n",
    "        else:\n",
    "            print(' ',end=' ')\n",
    "    print(\" \")"
   ]
  },
  {
   "cell_type": "code",
   "execution_count": 27,
   "id": "33e839c3",
   "metadata": {},
   "outputs": [
    {
     "name": "stdout",
     "output_type": "stream",
     "text": [
      "* * * * *  \n",
      "      *    \n",
      "    *      \n",
      "  *        \n",
      "* * * * *  \n"
     ]
    }
   ],
   "source": [
    "for r in range (5):\n",
    "    for c in range (5):\n",
    "        if r==0 or r==1 and c==3 or r==2 and c==2 or r==3 and c==1 or r==4:\n",
    "            print('*',end=' ')\n",
    "        else:\n",
    "            print(' ',end=' ')\n",
    "    print(' ')"
   ]
  },
  {
   "cell_type": "code",
   "execution_count": null,
   "id": "a9f30b1e",
   "metadata": {},
   "outputs": [],
   "source": []
  }
 ],
 "metadata": {
  "kernelspec": {
   "display_name": "Python 3 (ipykernel)",
   "language": "python",
   "name": "python3"
  },
  "language_info": {
   "codemirror_mode": {
    "name": "ipython",
    "version": 3
   },
   "file_extension": ".py",
   "mimetype": "text/x-python",
   "name": "python",
   "nbconvert_exporter": "python",
   "pygments_lexer": "ipython3",
   "version": "3.9.12"
  }
 },
 "nbformat": 4,
 "nbformat_minor": 5
}
